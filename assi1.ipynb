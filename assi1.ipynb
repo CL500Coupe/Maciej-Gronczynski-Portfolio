{
  "nbformat": 4,
  "nbformat_minor": 0,
  "metadata": {
    "colab": {
      "provenance": [],
      "authorship_tag": "ABX9TyNdc7yBKn/Lkfw5tl5QhsDq",
      "include_colab_link": true
    },
    "kernelspec": {
      "name": "ir",
      "display_name": "R"
    },
    "language_info": {
      "name": "R"
    }
  },
  "cells": [
    {
      "cell_type": "markdown",
      "metadata": {
        "id": "view-in-github",
        "colab_type": "text"
      },
      "source": [
        "<a href=\"https://colab.research.google.com/github/CL500Coupe/Maciej-Gronczynski-Portfolio/blob/main/assi1.ipynb\" target=\"_parent\"><img src=\"https://colab.research.google.com/assets/colab-badge.svg\" alt=\"Open In Colab\"/></a>"
      ]
    },
    {
      "cell_type": "code",
      "execution_count": 11,
      "metadata": {
        "id": "F30E3OdjjecJ"
      },
      "outputs": [],
      "source": [
        "url <- \"https://raw.githubusercontent.com/CL500Coupe/data_analytics_assi1/main/data/data.csv\""
      ]
    },
    {
      "cell_type": "code",
      "source": [
        "data <- read.csv(url)"
      ],
      "metadata": {
        "id": "GzTNi9WkvESv"
      },
      "execution_count": 12,
      "outputs": []
    },
    {
      "cell_type": "code",
      "source": [
        "head(data)"
      ],
      "metadata": {
        "colab": {
          "base_uri": "https://localhost:8080/",
          "height": 306
        },
        "id": "D9Y70TR6vF-_",
        "outputId": "d2e070bc-b326-4fa5-e117-d831ada2cd25"
      },
      "execution_count": 15,
      "outputs": [
        {
          "output_type": "display_data",
          "data": {
            "text/html": [
              "<table class=\"dataframe\">\n",
              "<caption>A data.frame: 6 × 21</caption>\n",
              "<thead>\n",
              "\t<tr><th></th><th scope=col>collision_date</th><th scope=col>day</th><th scope=col>year</th><th scope=col>mo</th><th scope=col>temp</th><th scope=col>dewp</th><th scope=col>slp</th><th scope=col>visib</th><th scope=col>wdsp</th><th scope=col>mxpsd</th><th scope=col>⋯</th><th scope=col>max</th><th scope=col>min</th><th scope=col>prcp</th><th scope=col>sndp</th><th scope=col>fog</th><th scope=col>NUM_COLLISIONS</th><th scope=col>co2</th><th scope=col>wind</th><th scope=col>so2</th><th scope=col>pressure</th></tr>\n",
              "\t<tr><th></th><th scope=col>&lt;chr&gt;</th><th scope=col>&lt;int&gt;</th><th scope=col>&lt;int&gt;</th><th scope=col>&lt;int&gt;</th><th scope=col>&lt;dbl&gt;</th><th scope=col>&lt;dbl&gt;</th><th scope=col>&lt;dbl&gt;</th><th scope=col>&lt;dbl&gt;</th><th scope=col>&lt;dbl&gt;</th><th scope=col>&lt;dbl&gt;</th><th scope=col>⋯</th><th scope=col>&lt;dbl&gt;</th><th scope=col>&lt;dbl&gt;</th><th scope=col>&lt;dbl&gt;</th><th scope=col>&lt;dbl&gt;</th><th scope=col>&lt;int&gt;</th><th scope=col>&lt;int&gt;</th><th scope=col>&lt;dbl&gt;</th><th scope=col>&lt;dbl&gt;</th><th scope=col>&lt;dbl&gt;</th><th scope=col>&lt;dbl&gt;</th></tr>\n",
              "</thead>\n",
              "<tbody>\n",
              "\t<tr><th scope=row>1</th><td>2012-07-01</td><td>7</td><td>2012</td><td>7</td><td>83.6</td><td>63.0</td><td>1008.9</td><td> 9.7</td><td>4.1</td><td> 9.9</td><td>⋯</td><td>93.0</td><td>66.0</td><td> 0.00</td><td>999.9</td><td>0</td><td>538</td><td>14.58958</td><td>134.91354</td><td>3.965625</td><td> 999.4417</td></tr>\n",
              "\t<tr><th scope=row>2</th><td>2012-07-02</td><td>1</td><td>2012</td><td>7</td><td>80.3</td><td>54.1</td><td>1011.6</td><td>10.0</td><td>3.8</td><td>15.0</td><td>⋯</td><td>88.0</td><td>66.9</td><td> 0.00</td><td>999.9</td><td>0</td><td>564</td><td>13.74375</td><td>143.53125</td><td>1.264583</td><td>1002.3106</td></tr>\n",
              "\t<tr><th scope=row>3</th><td>2012-07-03</td><td>2</td><td>2012</td><td>7</td><td>79.8</td><td>56.7</td><td>1012.8</td><td>10.0</td><td>2.9</td><td>12.0</td><td>⋯</td><td>88.0</td><td>63.0</td><td> 0.00</td><td>999.9</td><td>0</td><td>664</td><td>17.13759</td><td>124.85521</td><td>1.764732</td><td>1002.4833</td></tr>\n",
              "\t<tr><th scope=row>4</th><td>2012-07-04</td><td>3</td><td>2012</td><td>7</td><td>81.8</td><td>65.6</td><td>1009.1</td><td> 9.2</td><td>3.6</td><td>11.1</td><td>⋯</td><td>91.0</td><td>68.0</td><td> 0.06</td><td>999.9</td><td>0</td><td>432</td><td>12.17500</td><td>125.92083</td><td>1.902083</td><td> 998.5333</td></tr>\n",
              "\t<tr><th scope=row>5</th><td>2012-07-05</td><td>4</td><td>2012</td><td>7</td><td>86.7</td><td>64.3</td><td>1007.4</td><td> 9.4</td><td>3.8</td><td>15.0</td><td>⋯</td><td>93.9</td><td>70.0</td><td>99.99</td><td>999.9</td><td>0</td><td>591</td><td>11.28750</td><td>126.29375</td><td>1.243750</td><td> 998.0750</td></tr>\n",
              "\t<tr><th scope=row>6</th><td>2012-07-06</td><td>5</td><td>2012</td><td>7</td><td>81.9</td><td>62.3</td><td>1011.7</td><td>10.0</td><td>3.1</td><td> 9.9</td><td>⋯</td><td>91.0</td><td>66.9</td><td> 0.00</td><td>999.9</td><td>0</td><td>638</td><td>15.72138</td><td> 81.20729</td><td>1.122917</td><td>1002.1083</td></tr>\n",
              "</tbody>\n",
              "</table>\n"
            ],
            "text/markdown": "\nA data.frame: 6 × 21\n\n| <!--/--> | collision_date &lt;chr&gt; | day &lt;int&gt; | year &lt;int&gt; | mo &lt;int&gt; | temp &lt;dbl&gt; | dewp &lt;dbl&gt; | slp &lt;dbl&gt; | visib &lt;dbl&gt; | wdsp &lt;dbl&gt; | mxpsd &lt;dbl&gt; | ⋯ ⋯ | max &lt;dbl&gt; | min &lt;dbl&gt; | prcp &lt;dbl&gt; | sndp &lt;dbl&gt; | fog &lt;int&gt; | NUM_COLLISIONS &lt;int&gt; | co2 &lt;dbl&gt; | wind &lt;dbl&gt; | so2 &lt;dbl&gt; | pressure &lt;dbl&gt; |\n|---|---|---|---|---|---|---|---|---|---|---|---|---|---|---|---|---|---|---|---|---|---|\n| 1 | 2012-07-01 | 7 | 2012 | 7 | 83.6 | 63.0 | 1008.9 |  9.7 | 4.1 |  9.9 | ⋯ | 93.0 | 66.0 |  0.00 | 999.9 | 0 | 538 | 14.58958 | 134.91354 | 3.965625 |  999.4417 |\n| 2 | 2012-07-02 | 1 | 2012 | 7 | 80.3 | 54.1 | 1011.6 | 10.0 | 3.8 | 15.0 | ⋯ | 88.0 | 66.9 |  0.00 | 999.9 | 0 | 564 | 13.74375 | 143.53125 | 1.264583 | 1002.3106 |\n| 3 | 2012-07-03 | 2 | 2012 | 7 | 79.8 | 56.7 | 1012.8 | 10.0 | 2.9 | 12.0 | ⋯ | 88.0 | 63.0 |  0.00 | 999.9 | 0 | 664 | 17.13759 | 124.85521 | 1.764732 | 1002.4833 |\n| 4 | 2012-07-04 | 3 | 2012 | 7 | 81.8 | 65.6 | 1009.1 |  9.2 | 3.6 | 11.1 | ⋯ | 91.0 | 68.0 |  0.06 | 999.9 | 0 | 432 | 12.17500 | 125.92083 | 1.902083 |  998.5333 |\n| 5 | 2012-07-05 | 4 | 2012 | 7 | 86.7 | 64.3 | 1007.4 |  9.4 | 3.8 | 15.0 | ⋯ | 93.9 | 70.0 | 99.99 | 999.9 | 0 | 591 | 11.28750 | 126.29375 | 1.243750 |  998.0750 |\n| 6 | 2012-07-06 | 5 | 2012 | 7 | 81.9 | 62.3 | 1011.7 | 10.0 | 3.1 |  9.9 | ⋯ | 91.0 | 66.9 |  0.00 | 999.9 | 0 | 638 | 15.72138 |  81.20729 | 1.122917 | 1002.1083 |\n\n",
            "text/latex": "A data.frame: 6 × 21\n\\begin{tabular}{r|lllllllllllllllllllll}\n  & collision\\_date & day & year & mo & temp & dewp & slp & visib & wdsp & mxpsd & ⋯ & max & min & prcp & sndp & fog & NUM\\_COLLISIONS & co2 & wind & so2 & pressure\\\\\n  & <chr> & <int> & <int> & <int> & <dbl> & <dbl> & <dbl> & <dbl> & <dbl> & <dbl> & ⋯ & <dbl> & <dbl> & <dbl> & <dbl> & <int> & <int> & <dbl> & <dbl> & <dbl> & <dbl>\\\\\n\\hline\n\t1 & 2012-07-01 & 7 & 2012 & 7 & 83.6 & 63.0 & 1008.9 &  9.7 & 4.1 &  9.9 & ⋯ & 93.0 & 66.0 &  0.00 & 999.9 & 0 & 538 & 14.58958 & 134.91354 & 3.965625 &  999.4417\\\\\n\t2 & 2012-07-02 & 1 & 2012 & 7 & 80.3 & 54.1 & 1011.6 & 10.0 & 3.8 & 15.0 & ⋯ & 88.0 & 66.9 &  0.00 & 999.9 & 0 & 564 & 13.74375 & 143.53125 & 1.264583 & 1002.3106\\\\\n\t3 & 2012-07-03 & 2 & 2012 & 7 & 79.8 & 56.7 & 1012.8 & 10.0 & 2.9 & 12.0 & ⋯ & 88.0 & 63.0 &  0.00 & 999.9 & 0 & 664 & 17.13759 & 124.85521 & 1.764732 & 1002.4833\\\\\n\t4 & 2012-07-04 & 3 & 2012 & 7 & 81.8 & 65.6 & 1009.1 &  9.2 & 3.6 & 11.1 & ⋯ & 91.0 & 68.0 &  0.06 & 999.9 & 0 & 432 & 12.17500 & 125.92083 & 1.902083 &  998.5333\\\\\n\t5 & 2012-07-05 & 4 & 2012 & 7 & 86.7 & 64.3 & 1007.4 &  9.4 & 3.8 & 15.0 & ⋯ & 93.9 & 70.0 & 99.99 & 999.9 & 0 & 591 & 11.28750 & 126.29375 & 1.243750 &  998.0750\\\\\n\t6 & 2012-07-06 & 5 & 2012 & 7 & 81.9 & 62.3 & 1011.7 & 10.0 & 3.1 &  9.9 & ⋯ & 91.0 & 66.9 &  0.00 & 999.9 & 0 & 638 & 15.72138 &  81.20729 & 1.122917 & 1002.1083\\\\\n\\end{tabular}\n",
            "text/plain": [
              "  collision_date day year mo temp dewp slp    visib wdsp mxpsd ⋯ max  min \n",
              "1 2012-07-01     7   2012 7  83.6 63.0 1008.9  9.7  4.1   9.9  ⋯ 93.0 66.0\n",
              "2 2012-07-02     1   2012 7  80.3 54.1 1011.6 10.0  3.8  15.0  ⋯ 88.0 66.9\n",
              "3 2012-07-03     2   2012 7  79.8 56.7 1012.8 10.0  2.9  12.0  ⋯ 88.0 63.0\n",
              "4 2012-07-04     3   2012 7  81.8 65.6 1009.1  9.2  3.6  11.1  ⋯ 91.0 68.0\n",
              "5 2012-07-05     4   2012 7  86.7 64.3 1007.4  9.4  3.8  15.0  ⋯ 93.9 70.0\n",
              "6 2012-07-06     5   2012 7  81.9 62.3 1011.7 10.0  3.1   9.9  ⋯ 91.0 66.9\n",
              "  prcp  sndp  fog NUM_COLLISIONS co2      wind      so2      pressure \n",
              "1  0.00 999.9 0   538            14.58958 134.91354 3.965625  999.4417\n",
              "2  0.00 999.9 0   564            13.74375 143.53125 1.264583 1002.3106\n",
              "3  0.00 999.9 0   664            17.13759 124.85521 1.764732 1002.4833\n",
              "4  0.06 999.9 0   432            12.17500 125.92083 1.902083  998.5333\n",
              "5 99.99 999.9 0   591            11.28750 126.29375 1.243750  998.0750\n",
              "6  0.00 999.9 0   638            15.72138  81.20729 1.122917 1002.1083"
            ]
          },
          "metadata": {}
        }
      ]
    },
    {
      "cell_type": "code",
      "source": [],
      "metadata": {
        "id": "9EOL8axZwTyw"
      },
      "execution_count": 19,
      "outputs": []
    },
    {
      "cell_type": "code",
      "source": [],
      "metadata": {
        "id": "MViY82DNwmVp"
      },
      "execution_count": null,
      "outputs": []
    },
    {
      "cell_type": "code",
      "source": [],
      "metadata": {
        "id": "CDrFwSsZwm_w"
      },
      "execution_count": null,
      "outputs": []
    },
    {
      "cell_type": "code",
      "source": [],
      "metadata": {
        "id": "rpJdfZqIwnSA"
      },
      "execution_count": null,
      "outputs": []
    },
    {
      "cell_type": "code",
      "source": [],
      "metadata": {
        "id": "6Q4Uiw-EwnhX"
      },
      "execution_count": null,
      "outputs": []
    },
    {
      "cell_type": "code",
      "source": [],
      "metadata": {
        "id": "7qsV7O5Nwnpo"
      },
      "execution_count": null,
      "outputs": []
    },
    {
      "cell_type": "code",
      "source": [],
      "metadata": {
        "id": "m6yigejownuv"
      },
      "execution_count": null,
      "outputs": []
    },
    {
      "cell_type": "code",
      "source": [],
      "metadata": {
        "id": "cBpDg7fBwnzI"
      },
      "execution_count": null,
      "outputs": []
    },
    {
      "cell_type": "code",
      "source": [],
      "metadata": {
        "id": "2JjE_UTjwn2_"
      },
      "execution_count": null,
      "outputs": []
    },
    {
      "cell_type": "code",
      "source": [],
      "metadata": {
        "id": "IwBbiiWswn6o"
      },
      "execution_count": null,
      "outputs": []
    },
    {
      "cell_type": "code",
      "source": [],
      "metadata": {
        "id": "E0daDGs4wn-X"
      },
      "execution_count": null,
      "outputs": []
    },
    {
      "cell_type": "code",
      "source": [],
      "metadata": {
        "id": "uUI8Y9lbwoCP"
      },
      "execution_count": null,
      "outputs": []
    },
    {
      "cell_type": "code",
      "source": [],
      "metadata": {
        "id": "OAa7gTtBwoGA"
      },
      "execution_count": null,
      "outputs": []
    },
    {
      "cell_type": "code",
      "source": [],
      "metadata": {
        "id": "D2WvkUfJwoJi"
      },
      "execution_count": null,
      "outputs": []
    },
    {
      "cell_type": "code",
      "source": [],
      "metadata": {
        "id": "AZZJZMP6woNY"
      },
      "execution_count": null,
      "outputs": []
    },
    {
      "cell_type": "code",
      "source": [],
      "metadata": {
        "id": "bo5yUWBVwoQ6"
      },
      "execution_count": null,
      "outputs": []
    },
    {
      "cell_type": "code",
      "source": [],
      "metadata": {
        "id": "i0prE7uWwoUH"
      },
      "execution_count": null,
      "outputs": []
    },
    {
      "cell_type": "code",
      "source": [],
      "metadata": {
        "id": "ZD0WibrSwoXn"
      },
      "execution_count": null,
      "outputs": []
    },
    {
      "cell_type": "code",
      "source": [],
      "metadata": {
        "id": "MO8jN3zjwoa3"
      },
      "execution_count": null,
      "outputs": []
    },
    {
      "cell_type": "code",
      "source": [],
      "metadata": {
        "id": "J9XPtn-XwoeI"
      },
      "execution_count": null,
      "outputs": []
    },
    {
      "cell_type": "code",
      "source": [],
      "metadata": {
        "id": "JsaW5asMwohS"
      },
      "execution_count": null,
      "outputs": []
    },
    {
      "cell_type": "code",
      "source": [],
      "metadata": {
        "id": "7mub4EfKwokS"
      },
      "execution_count": null,
      "outputs": []
    },
    {
      "cell_type": "code",
      "source": [],
      "metadata": {
        "id": "aAdRFp2Awonv"
      },
      "execution_count": null,
      "outputs": []
    },
    {
      "cell_type": "code",
      "source": [],
      "metadata": {
        "id": "b__Xp--nwoqp"
      },
      "execution_count": null,
      "outputs": []
    },
    {
      "cell_type": "code",
      "source": [],
      "metadata": {
        "id": "h00OPGs1wo0P"
      },
      "execution_count": null,
      "outputs": []
    },
    {
      "cell_type": "code",
      "source": [],
      "metadata": {
        "id": "Jw50TkaIwo3A"
      },
      "execution_count": null,
      "outputs": []
    },
    {
      "cell_type": "code",
      "source": [],
      "metadata": {
        "id": "8QKFPMYOwo5l"
      },
      "execution_count": null,
      "outputs": []
    }
  ]
}